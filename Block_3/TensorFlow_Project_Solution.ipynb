{
 "cells": [
  {
   "cell_type": "code",
   "execution_count": 3,
   "metadata": {},
   "outputs": [],
   "source": [
    "import numpy as np\n",
    "import tensorflow as tf"
   ]
  },
  {
   "cell_type": "code",
   "execution_count": 6,
   "metadata": {},
   "outputs": [
    {
     "name": "stdout",
     "output_type": "stream",
     "text": [
      "(10000, 28, 28) (10000,) (50000, 28, 28) (50000,)\n"
     ]
    }
   ],
   "source": [
    "mnist = tf.keras.datasets.mnist\n",
    "(x_train, y_train),(x_test, y_test) = mnist.load_data()\n",
    "\n",
    "valid_indices = np.random.choice(len(x_train), 10000, replace=False)\n",
    "x_valid = np.array([x_train[i] for i in valid_indices])\n",
    "y_valid = np.array([y_train[i] for i in valid_indices])\n",
    "x_train = np.array([x_train[i] for i in range(len(x_train)) if i not in valid_indices])\n",
    "y_train = np.array([y_train[i] for i in range(len(y_train)) if i not in valid_indices])\n",
    "\n",
    "print(x_valid.shape, y_valid.shape, x_train.shape, y_train.shape)"
   ]
  }
 ],
 "metadata": {
  "kernelspec": {
   "display_name": "Python 3",
   "language": "python",
   "name": "python3"
  },
  "language_info": {
   "codemirror_mode": {
    "name": "ipython",
    "version": 3
   },
   "file_extension": ".py",
   "mimetype": "text/x-python",
   "name": "python",
   "nbconvert_exporter": "python",
   "pygments_lexer": "ipython3",
   "version": "3.6.2"
  }
 },
 "nbformat": 4,
 "nbformat_minor": 2
}
