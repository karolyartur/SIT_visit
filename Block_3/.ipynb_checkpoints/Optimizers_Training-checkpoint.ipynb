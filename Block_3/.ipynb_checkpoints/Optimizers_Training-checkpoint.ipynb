{
 "cells": [
  {
   "cell_type": "markdown",
   "metadata": {},
   "source": [
    "<h1 style=\"color:white;background-color:rgb(255, 108, 0);padding-top:1em;padding-bottom:0.7em;padding-left:1em;\">3.4 Optimizers and Training Process</h1>\n",
    "<hr>\n",
    "\n",
    "<h2>Introduction</h2>\n",
    "\n",
    "In this lesson first we will see how to use the built-in optimizers in tensorflow on a simple task.\n",
    "<br>\n",
    "Next we will see, how to create simple neural network structures for classification and regression and how to\n",
    "<br>\n",
    "perform a training process to tune the variables of the models.\n",
    "\n",
    "First of all, import the required modules:"
   ]
  },
  {
   "cell_type": "code",
   "execution_count": null,
   "metadata": {},
   "outputs": [],
   "source": [
    "import numpy as np\n",
    "import tensorflow as tf\n",
    "import SIT_visit.Block_3.utils as utils"
   ]
  },
  {
   "cell_type": "markdown",
   "metadata": {},
   "source": [
    "<h2>Optimizers</h2>\n",
    "\n",
    "The optimizers provided in TensorFlow can be found in the ```tf.train``` package.\n",
    "<br>\n",
    "The most important ones are the GradientDescentOptimizer, the AdamOptimizer and the MomentumOptimizer.\n",
    "<br>\n",
    "For more info on optizers see https://www.tensorflow.org/api_docs/python/tf/train\n",
    "\n",
    "These optimizers automatically modify the variables of the model, in order to find the minimum of a function.\n",
    "\n",
    "<p style=\"margin-top:2em;\">Now let's see how to use an optimizer to find the minimum value of a simple function:</p>"
   ]
  },
  {
   "cell_type": "code",
   "execution_count": null,
   "metadata": {},
   "outputs": [],
   "source": [
    "tf.reset_default_graph()\n",
    "\n"
   ]
  }
 ],
 "metadata": {
  "kernelspec": {
   "display_name": "Python 3",
   "language": "python",
   "name": "python3"
  },
  "language_info": {
   "codemirror_mode": {
    "name": "ipython",
    "version": 3
   },
   "file_extension": ".py",
   "mimetype": "text/x-python",
   "name": "python",
   "nbconvert_exporter": "python",
   "pygments_lexer": "ipython3",
   "version": "3.6.2"
  }
 },
 "nbformat": 4,
 "nbformat_minor": 2
}
