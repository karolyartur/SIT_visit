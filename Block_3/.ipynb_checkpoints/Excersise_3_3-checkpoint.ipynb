{
 "cells": [
  {
   "cell_type": "markdown",
   "metadata": {},
   "source": [
    "<h1 style=\"color:white;background-color:rgb(255, 108, 0);padding-top:1em;padding-bottom:0.7em;padding-left:1em;\">Excersise 3.3 solution</h1>\n",
    "<hr>"
   ]
  },
  {
   "cell_type": "code",
   "execution_count": null,
   "metadata": {},
   "outputs": [],
   "source": [
    "import numpy as np\n",
    "import tensorflow as tf\n",
    "import SIT_visit.Block_3.utils as utils"
   ]
  },
  {
   "cell_type": "code",
   "execution_count": null,
   "metadata": {},
   "outputs": [],
   "source": [
    "tf.reset_default_graph()\n",
    "\n",
    "def fully_connected(inputs, neuron_number, name, weight_initializer=tf.initializers.ones,\n",
    "                    bias_initializer=tf.initializers.zeros, activation_function=tf.nn.tanh):\n",
    "    with tf.variable_scope(name):\n",
    "        weights = tf.get_variable('weights', shape=[inputs.shape[1],neuron_number], initializer=weight_initializer)\n",
    "        biases = tf.get_variable('biases', shape=[neuron_number], initializer=bias_initializer)\n",
    "        return (activation_function(tf.matmul(inputs, weights) + biases))\n",
    "    \n",
    "inputs = tf.placeholder(dtype=tf.float32, shape=[None, 3])\n",
    "\n",
    "result_1 = fully_connected(inputs, 2, 'fc_1')\n",
    "result_2 = tf.layers.dense(inputs, 2, activation=tf.nn.tanh, kernel_initializer=tf.initializers.ones, name='fc_2')\n",
    "\n",
    "utils.show_graph(tf.get_default_graph())\n",
    "\n",
    "init = tf.global_variables_initializer()\n",
    "\n",
    "with tf.Session() as sess:\n",
    "    sess.run(init)\n",
    "    res1,res2 = sess.run([result_1,result_2], feed_dict={inputs: [[0.1,0.1,0.1],[0.1,0.2,0.3],[0.3,0.3,0.3],[0.3,0.3,0.7]]})\n",
    "    print('The results of the inferences from layer fc_1 are:\\n', res1)\n",
    "    print('The results of the inferences from layer fc_2 are:\\n', res2)\n",
    "    print('These two layers give the same results:', np.all(res1==res2))"
   ]
  }
 ],
 "metadata": {
  "kernelspec": {
   "display_name": "Python 3",
   "language": "python",
   "name": "python3"
  },
  "language_info": {
   "codemirror_mode": {
    "name": "ipython",
    "version": 3
   },
   "file_extension": ".py",
   "mimetype": "text/x-python",
   "name": "python",
   "nbconvert_exporter": "python",
   "pygments_lexer": "ipython3",
   "version": "3.6.2"
  }
 },
 "nbformat": 4,
 "nbformat_minor": 2
}
