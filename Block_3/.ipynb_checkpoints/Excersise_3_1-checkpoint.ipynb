{
 "cells": [
  {
   "cell_type": "markdown",
   "metadata": {},
   "source": [
    "<h1 style=\"color:white;background-color:rgb(255, 108, 0);padding-top:1em;padding-bottom:0.7em;padding-left:1em;\">Excersise 3.1 solution</h1>\n",
    "<hr>"
   ]
  },
  {
   "cell_type": "code",
   "execution_count": null,
   "metadata": {},
   "outputs": [],
   "source": [
    "import numpy as np\n",
    "import tensorflow as tf\n",
    "import SIT_visit.Block_3.utils as utils"
   ]
  },
  {
   "cell_type": "code",
   "execution_count": null,
   "metadata": {},
   "outputs": [],
   "source": [
    "g = tf.Graph()\n",
    "\n",
    "with g.as_default():\n",
    "    A = tf.constant([[1,2,3],[4,5,6],[7,8,9]], name='A')\n",
    "    B = tf.constant([[1,2],[4,5],[7,8]], name='B')\n",
    "    AB = tf.matmul(A, B, name='AB')\n",
    "    AB_max = tf.reduce_max(AB, name='AB_max')\n",
    "    Ad = tf.divide(A, AB_max, name='Ad')\n",
    "    result = tf.reduce_sum(Ad, name='result')\n",
    "\n",
    "#Visualize the computation graph\n",
    "utils.show_graph(g, max_const_size=64)\n",
    "\n",
    "#Execute the operations and evaluate the tensors\n",
    "with g.as_default(), tf.Session() as sess:\n",
    "    Av,Bv,ABv,AB_maxv,Adv,resultv = sess.run([A,B,AB,AB_max,Ad,result])\n",
    "    print('A is\\n', Av, '\\n')\n",
    "    print('B is\\n', Bv, '\\n')\n",
    "    print('AB is\\n', ABv, '\\n')\n",
    "    print('AB_max is\\n', AB_maxv, '\\n')\n",
    "    print('Ad is\\n', Adv, '\\n')\n",
    "    print('result is\\n', resultv, '\\n')"
   ]
  }
 ],
 "metadata": {
  "kernelspec": {
   "display_name": "Python 3",
   "language": "python",
   "name": "python3"
  },
  "language_info": {
   "codemirror_mode": {
    "name": "ipython",
    "version": 3
   },
   "file_extension": ".py",
   "mimetype": "text/x-python",
   "name": "python",
   "nbconvert_exporter": "python",
   "pygments_lexer": "ipython3",
   "version": "3.6.2"
  }
 },
 "nbformat": 4,
 "nbformat_minor": 2
}
