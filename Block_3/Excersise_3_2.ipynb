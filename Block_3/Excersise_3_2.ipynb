{
 "cells": [
  {
   "cell_type": "markdown",
   "metadata": {},
   "source": [
    "<h1 style=\"color:white;background-color:rgb(255, 108, 0);padding-top:1em;padding-bottom:0.7em;padding-left:1em;\">Excersise 3.2 solution</h1>\n",
    "<hr>"
   ]
  },
  {
   "cell_type": "code",
   "execution_count": null,
   "metadata": {},
   "outputs": [],
   "source": [
    "import numpy as np\n",
    "import tensorflow as tf"
   ]
  },
  {
   "cell_type": "code",
   "execution_count": null,
   "metadata": {},
   "outputs": [],
   "source": [
    "from matplotlib import pyplot as plt\n",
    "from mpl_toolkits.mplot3d import Axes3D\n",
    "\n",
    "def add_to_plot(ax, points, color='r'):\n",
    "    '''Add list of points to the 3D plot\n",
    "    \n",
    "    Args:\n",
    "        ax (Axes3D object): Feed the already created ax variable to this value\n",
    "        points (float(,3)): 3D point arrays arranged in a list\n",
    "        color (char): color of the points to be visualized\n",
    "    '''\n",
    "    x_coords = []\n",
    "    y_coords = []\n",
    "    z_coords = []\n",
    "    for point in points:\n",
    "        x_coords.append(point[0])\n",
    "        y_coords.append(point[1])\n",
    "        z_coords.append(point[2])\n",
    "    ax.scatter(x_coords, y_coords, z_coords, c=color)\n",
    "    \n",
    "#Write your code here:\n",
    "\n",
    "def random_3d_vector(minimum=1, maximum=100):\n",
    "    while True:\n",
    "        yield np.random.randint(minimum, high=maximum, size=3)\n",
    "        \n",
    "def normalize_vector(vector):\n",
    "    return vector/tf.norm(vector)\n",
    "\n",
    "gen = lambda: random_3d_vector()\n",
    "\n",
    "ds = tf.data.Dataset.from_generator(gen,tf.float32).map(normalize_vector).repeat().batch(50)\n",
    "ds_iterator = ds.make_initializable_iterator()\n",
    "init = ds_iterator.initializer\n",
    "batch = ds_iterator.get_next()\n",
    "\n",
    "v = tf.placeholder(tf.float32, shape=tf.TensorShape([1,3]))\n",
    "\n",
    "S = tf.matmul(batch, v, transpose_b=True)\n",
    "x_max_index = tf.reshape(tf.argmax(S),[])\n",
    "x_max = tf.reshape(tf.slice(batch, [x_max_index,0], [1,3]),[3])\n",
    "vxm = tf.norm(v)*x_max\n",
    "\n",
    "points = []\n",
    "feed_dict = {v: [[1,1,1]]}\n",
    "\n",
    "with tf.Session() as sess:\n",
    "    sess.run(init)\n",
    "    for i in range(20):\n",
    "        points.append(sess.run(vxm, feed_dict=feed_dict))\n",
    "    rand = sess.run(tf.norm(v)*batch, feed_dict=feed_dict)\n",
    "    \n",
    "fig = pyplot.figure()\n",
    "ax = Axes3D(fig)\n",
    "ax.set_xlabel('x')\n",
    "ax.set_ylabel('y')\n",
    "ax.set_zlabel('z')\n",
    "#Call add_to_plot function for your list of points here:\n",
    "\n",
    "add_to_plot(ax, points)\n",
    "add_to_plot(ax, rand,'b')\n",
    "\n",
    "ax.view_init(30, 30)\n",
    "plt.show()"
   ]
  }
 ],
 "metadata": {
  "kernelspec": {
   "display_name": "Python 3",
   "language": "python",
   "name": "python3"
  },
  "language_info": {
   "codemirror_mode": {
    "name": "ipython",
    "version": 3
   },
   "file_extension": ".py",
   "mimetype": "text/x-python",
   "name": "python",
   "nbconvert_exporter": "python",
   "pygments_lexer": "ipython3",
   "version": "3.6.2"
  }
 },
 "nbformat": 4,
 "nbformat_minor": 2
}
