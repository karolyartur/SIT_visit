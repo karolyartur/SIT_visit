{
 "cells": [
  {
   "cell_type": "markdown",
   "metadata": {},
   "source": [
    "<h1 style=\"color:white;background-color:rgb(255, 108, 0);padding-top:1em;padding-bottom:0.7em;padding-left:1em;\">Excersise 1.3 solution</h1>\n",
    "<hr>"
   ]
  },
  {
   "cell_type": "code",
   "execution_count": null,
   "metadata": {},
   "outputs": [],
   "source": [
    "import numpy as np\n",
    "import matplotlib.pyplot as plt"
   ]
  },
  {
   "cell_type": "code",
   "execution_count": null,
   "metadata": {},
   "outputs": [],
   "source": [
    "def project(base, v_proj):\n",
    "    normalized_base = base/np.linalg.norm(base)\n",
    "    scalar = normalized_base@v_proj\n",
    "    return (scalar*normalized_base)\n",
    "\n",
    "a = np.array([3,2])\n",
    "b = np.array([2,4])\n",
    "\n",
    "projection = project(a,b)\n",
    "print('the projection of b on a is:', projection)\n",
    "\n",
    "plt.figure(1)\n",
    "plt.plot([0,a[0]], [0,a[1]], label='base (a)', linewidth=6, color='red')\n",
    "plt.plot([0,b[0]], [0,b[1]], label='vector to project (b)', linewidth=3)\n",
    "plt.plot([0,projection[0]], [0,projection[1]], label='projection', linewidth=3, color='green')\n",
    "plt.legend()\n",
    "plt.title('Projecting b on a', fontsize=20)\n",
    "plt.xlabel('x', fontsize=15)\n",
    "plt.ylabel('y', fontsize=15)\n",
    "plt.xlim(0,5)\n",
    "plt.ylim(0,5)\n",
    "plt.show()"
   ]
  }
 ],
 "metadata": {
  "kernelspec": {
   "display_name": "Python 3",
   "language": "python",
   "name": "python3"
  },
  "language_info": {
   "codemirror_mode": {
    "name": "ipython",
    "version": 3
   },
   "file_extension": ".py",
   "mimetype": "text/x-python",
   "name": "python",
   "nbconvert_exporter": "python",
   "pygments_lexer": "ipython3",
   "version": "3.6.2"
  }
 },
 "nbformat": 4,
 "nbformat_minor": 2
}
