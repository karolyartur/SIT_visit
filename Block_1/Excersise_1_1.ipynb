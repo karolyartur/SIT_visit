{
 "cells": [
  {
   "cell_type": "markdown",
   "metadata": {},
   "source": [
    "<h1 style=\"color:white;background-color:rgb(255, 108, 0);padding-top:1em;padding-bottom:0.7em;padding-left:1em;\">Excersise 1.1 solution</h1>\n",
    "<hr>"
   ]
  },
  {
   "cell_type": "code",
   "execution_count": null,
   "metadata": {},
   "outputs": [],
   "source": [
    "def sqrt(x):\n",
    "    return(x**(1/2))\n",
    "\n",
    "def solve(a, b, c):\n",
    "    '''Solve second order equation\n",
    "    \n",
    "    Computes the roots of a second order equation in the form of\n",
    "    ax^2+bx+c=0 for x, given a, b and c.\n",
    "    Reurns the roots of the equation\n",
    "    \n",
    "    Inputs:\n",
    "        a (float) - coefficient of x^2\n",
    "        b (float) - coefficient of x\n",
    "        c (float) - constant coefficient\n",
    "        \n",
    "    Returns:\n",
    "        (float, float) - The roots of the given equation\n",
    "        or\n",
    "        (complex, complex) - The roots of the given equation\n",
    "    '''\n",
    "    sol1 = (-b+sqrt(b**2-4*a*c))/(2*a)\n",
    "    sol2 = (-b-sqrt(b**2-4*a*c))/(2*a)\n",
    "    return(sol1,sol2)\n",
    "\n",
    "print('The solutions for x^2+2x-3=0 are', solve(1, 2, -3))\n",
    "help(solve)"
   ]
  }
 ],
 "metadata": {
  "kernelspec": {
   "display_name": "Python 3",
   "language": "python",
   "name": "python3"
  },
  "language_info": {
   "codemirror_mode": {
    "name": "ipython",
    "version": 3
   },
   "file_extension": ".py",
   "mimetype": "text/x-python",
   "name": "python",
   "nbconvert_exporter": "python",
   "pygments_lexer": "ipython3",
   "version": "3.6.2"
  }
 },
 "nbformat": 4,
 "nbformat_minor": 2
}
