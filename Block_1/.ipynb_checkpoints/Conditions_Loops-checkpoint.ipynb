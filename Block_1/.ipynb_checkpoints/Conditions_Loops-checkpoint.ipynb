{
 "cells": [
  {
   "cell_type": "markdown",
   "metadata": {},
   "source": [
    "<h1 style=\"color:white;background-color:rgb(255, 108, 0);padding-top:1em;padding-bottom:0.7em;padding-left:1em;\">1.2 Conditions and Loops in Python</h1>\n",
    "<hr>\n",
    "\n",
    "<h2>Introduction</h2>\n",
    "\n",
    "In this this lesson we will see how to create nested structures in Python, such as loops and conditions\n",
    "<br>\n",
    "and we will examin the behaviour of Python lists as well."
   ]
  },
  {
   "cell_type": "markdown",
   "metadata": {},
   "source": [
    "<h2>Conditions</h2>\n",
    "\n",
    "Conditional statemetns can be used to branch code and execute parts only if some condition is met.\n",
    "<br>\n",
    "The basic conditional statements are the if, else and eslse if statements. In python they look like this:\n",
    "\n",
    "```python\n",
    "if condition:\n",
    "    do_thigs\n",
    "elif other_condition:\n",
    "    do_other things\n",
    "else:\n",
    "    do_something_esle\n",
    "```\n",
    "\n",
    "The code inside these statements only gets executed if the condition is ```True```.\n",
    "\n",
    "Let's see how to use conditional statements in Python"
   ]
  },
  {
   "cell_type": "code",
   "execution_count": null,
   "metadata": {},
   "outputs": [],
   "source": [
    "#create a function that takes three arguments and returns the one with the greatest absolute value\n",
    "def max_abs(a, b, c):\n",
    "    if abs(a)>abs(b):\n",
    "        if abs(a)>abs(c):\n",
    "            return a\n",
    "        else:\n",
    "            return c\n",
    "    elif abs(b)>abs(c):\n",
    "        return b\n",
    "    else:\n",
    "        return c\n",
    "    \n",
    "print('The absolute maximum of 1,2,3 is', max_abs(1,2,3))\n",
    "print('The absolute maximum of -10,2,4 is', max_abs(-10,2,4))"
   ]
  },
  {
   "cell_type": "markdown",
   "metadata": {},
   "source": [
    "<h2>Lists</h2>\n",
    "\n",
    "A list in python is a collection of values. A list is represented by a series of comma separated values enclosed in brackets.\n",
    "<br>\n",
    "Example list:\n",
    "\n",
    "```python\n",
    "['first element', 1, True, 2.56]\n",
    "```\n",
    "\n",
    "As you can see any type of data can be in the same list. However, most of the time we will only work with homogeneous lists.\n",
    "\n",
    "The elements of a list can be accessed by their indeces like this:\n",
    "\n",
    "```python\n",
    "my_list = [11,22,33,44]\n",
    "first_element = my_list[0]\n",
    "```\n",
    "\n",
    "The indexing starts a 0 and ends at the length of list - 1.\n",
    "<br>\n",
    "The length of a list can be retrieved with the built-in function ```len()```.\n",
    "\n",
    "There is also a built-in function to create a sequence of numeric values very easily and it is ```range()```.\n",
    "<br>\n",
    "The following syntax can be used in order to create a range:\n",
    "\n",
    "```python\n",
    "range(start, stop, step)\n",
    "```\n",
    "\n",
    "Where the start is the start of the sequence, step is the value of the steps and stop is the end of the sequance.\n",
    "<br>\n",
    "The sequaence does not contain the stop argument but it contains start. The function can be called with only one\n",
    "<br>\n",
    "argument as well. In this case the start is 0 by default and the step is 1. The given argument is the stop.\n",
    "<br>\n",
    "A range can be indexed just like a list.\n",
    "\n",
    "In order to check if an element is in the list we can use the special ```in``` operator for lists.\n",
    "<br>\n",
    "There are two specal operators for boolean lists. ```any``` computes the logical or of the list elements and\n",
    "<br>\n",
    "```all``` computes the logical and of the list elements.\n",
    "\n",
    "The ```append()``` function of a list can be used to add elements dynamically to a list.\n",
    "\n",
    "Let's see how lists and their special functions and operators can be used"
   ]
  },
  {
   "cell_type": "code",
   "execution_count": null,
   "metadata": {},
   "outputs": [],
   "source": [
    "my_list = [11,22,33,44]\n",
    "first_element = my_list[0]\n",
    "\n",
    "print('the first element of my_list is', first_element)\n",
    "print('the lenght of my_list is', len(my_list))\n",
    "\n",
    "my_list.append(88)\n",
    "print('the lenght of my_list is', len(my_list))\n",
    "\n",
    "my_range = range(5)\n",
    "print('my_range is', my_range, 'and its length is', len(my_range))\n",
    "\n",
    "print('22 is in my_list', 22 in my_list)\n",
    "print('34 is not in my_list', 34 not in my_list)\n",
    "\n",
    "bool_list = [True, True, True, False, False]\n",
    "\n",
    "print('logical and of bool_list elements:', all(bool_list))\n",
    "print('logical or of bool_list elements:', any(bool_list))"
   ]
  },
  {
   "cell_type": "markdown",
   "metadata": {},
   "source": [
    "<h2>Loops</h2>\n",
    "\n",
    "There are two types of loops in Python, the For loop and the While loop.\n",
    "\n",
    "Let's start with For loops.\n",
    "\n",
    "For loops in Python are used to loop over sequences.\n",
    "<br>\n",
    "The syntax of a For loop in Python is the following:\n",
    "\n",
    "```python\n",
    "for i in sequence:\n",
    "    do_something\n",
    "```\n",
    "\n",
    "Here the ```do_something``` part gets executed as many times as ```len(sequence)```.\n",
    "<br>\n",
    "The value of ```i``` holds the corresponding sequence element in each iteration.\n",
    "\n",
    "There are two keywords associated with For loops. These are the ```break``` and the ```continue```\n",
    "<br>\n",
    "keywords. If the ```break``` keyword is encountered the loop stops and the normal flow of the \n",
    "<br>\n",
    "program goes on. If the ```continue``` keyword is encountered, the program immediately jumps to the\n",
    "<br>\n",
    "next iteration of the loop ignoring what comes after the ```continue``` keyword.\n",
    "\n",
    "Let's see how For loops can be used:"
   ]
  },
  {
   "cell_type": "code",
   "execution_count": null,
   "metadata": {},
   "outputs": [],
   "source": [
    "my_list = [7,5,3,1,2,4,6]\n",
    "\n",
    "for i in my_list:\n",
    "    print('i is:', i)\n",
    "    \n",
    "for j in range(len(my_list)):\n",
    "    print('j is', j)\n",
    "    \n",
    "for k in my_list:\n",
    "    if k==5:\n",
    "        continue\n",
    "    if k==2:\n",
    "        break\n",
    "    print('k is:', k)"
   ]
  },
  {
   "cell_type": "markdown",
   "metadata": {},
   "source": [
    "While loops in Python are used to execute a piece of code as long as a condition is ```True```.\n",
    "\n",
    "The syntax for a While loop iy Python is like:\n",
    "\n",
    "```python\n",
    "while condition:\n",
    "    code_to_execute\n",
    "```\n",
    "\n",
    "The While loop can use the ```break``` keyword just like the For loop.\n",
    "\n",
    "Let's see, how a While loop can be used:"
   ]
  },
  {
   "cell_type": "code",
   "execution_count": null,
   "metadata": {},
   "outputs": [],
   "source": [
    "i = 0\n",
    "while i < 10:\n",
    "    print('i is', i)\n",
    "    i += 1"
   ]
  },
  {
   "cell_type": "markdown",
   "metadata": {},
   "source": [
    "<h2>Generators</h2>\n",
    "\n",
    "A generator in python is a special function that has a loop inside and instead of returning a whole sequence\n",
    "<br>\n",
    "it returns the elements of the sequence one by one.\n",
    "\n",
    "In order to create a generator one have to use a loop inside the function and instead of the ```return``` statement\n",
    "<br>\n",
    "the ```yield``` statement should be used.\n",
    "\n",
    "The next element of the sequence can be retieved by calling the ```next()``` function.\n",
    "<br>\n",
    "If the sequence is finished calling the ```next()``` function results in an error.\n",
    "\n",
    "Let's see an example for a Python generator:"
   ]
  },
  {
   "cell_type": "code",
   "execution_count": null,
   "metadata": {},
   "outputs": [],
   "source": [
    "def generator(a,b):\n",
    "    for i in range(10):\n",
    "        yield (a*10+b+i)\n",
    "        \n",
    "g = generator(2,4)\n",
    "\n",
    "for i in range(5):\n",
    "    print(next(g))"
   ]
  },
  {
   "cell_type": "markdown",
   "metadata": {},
   "source": [
    "<h2>Try Except</h2>\n",
    "\n",
    "The Try Except is for testing block of code for errors.\n",
    "<br>\n",
    "There are three block for a Try Except structure in Python. The first one, the ```try``` block\n",
    "<br>\n",
    "contains the code to be tested. In the ```except``` block the error handling can be done.\n",
    "<br>\n",
    "The ```finally``` block is cleaning up the resouces after the errors are taken care of.\n",
    "\n",
    "Let's see how to use the Try Except structure:"
   ]
  },
  {
   "cell_type": "code",
   "execution_count": null,
   "metadata": {},
   "outputs": [],
   "source": [
    "#Try to print an undefined variable\n",
    "try:\n",
    "    print(totally_not_a_defined_variable)\n",
    "except:\n",
    "    print('An exception occured')\n",
    "    \n",
    "#Try to write to a file that is not writeable\n",
    "try:\n",
    "    f = open('data/file.txt')\n",
    "    f.write('Text to write')\n",
    "except:\n",
    "    print('Something went wrong during writing to the file')\n",
    "finally:\n",
    "    f.close()"
   ]
  },
  {
   "cell_type": "markdown",
   "metadata": {},
   "source": [
    "With the ```assert``` statement we can generate errors from our code that can be catched with the Try Except structure.\n",
    "<br>\n",
    "The syntax of an ```assert``` is like:\n",
    "\n",
    "```python\n",
    "assert (condition), 'Error message'\n",
    "```\n",
    "If the condition is false, an error with ```'Error message'``` will be generated."
   ]
  },
  {
   "cell_type": "markdown",
   "metadata": {},
   "source": [
    "<h2>With statement</h2>\n",
    "\n",
    "The width statement in python is used to free the resources automatically.\n",
    "<br>\n",
    "So there is no need for a Try Except structure that takes up a lot of lines and that is more comlicated.\n",
    "\n",
    "Let's see how to use the with statement ot open and read a file:"
   ]
  },
  {
   "cell_type": "code",
   "execution_count": null,
   "metadata": {},
   "outputs": [],
   "source": [
    "with open('data/file.txt') as f:\n",
    "    print(f.read())"
   ]
  },
  {
   "cell_type": "markdown",
   "metadata": {},
   "source": [
    "<h2>Excersise 1.2</h2>\n",
    "\n",
    "Create a function that computes the dot product of two vectors. The vectors should be Python lists\n",
    "<br>\n",
    "with arbitrary length. If the length of the vectors is not equal assert an error with an error message.\n",
    "<br>\n",
    "Place the function call in a Try Except structure to catch the error."
   ]
  },
  {
   "cell_type": "code",
   "execution_count": null,
   "metadata": {},
   "outputs": [],
   "source": []
  },
  {
   "cell_type": "markdown",
   "metadata": {},
   "source": [
    "See solution here: [Excersise 1.2 solution](Excersise_1_2.ipynb)\n",
    "\n",
    "Continue: [1.3 Modules and Numpy](Modules_Numpy.ipynb)"
   ]
  }
 ],
 "metadata": {
  "kernelspec": {
   "display_name": "Python 3",
   "language": "python",
   "name": "python3"
  },
  "language_info": {
   "codemirror_mode": {
    "name": "ipython",
    "version": 3
   },
   "file_extension": ".py",
   "mimetype": "text/x-python",
   "name": "python",
   "nbconvert_exporter": "python",
   "pygments_lexer": "ipython3",
   "version": "3.6.2"
  }
 },
 "nbformat": 4,
 "nbformat_minor": 2
}
