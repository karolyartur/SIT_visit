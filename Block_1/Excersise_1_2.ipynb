{
 "cells": [
  {
   "cell_type": "markdown",
   "metadata": {},
   "source": [
    "<h1 style=\"color:white;background-color:rgb(255, 108, 0);padding-top:1em;padding-bottom:0.7em;padding-left:1em;\">Excersise 1.2 solution</h1>\n",
    "<hr>"
   ]
  },
  {
   "cell_type": "code",
   "execution_count": null,
   "metadata": {},
   "outputs": [],
   "source": [
    "def dot_product(a, b):\n",
    "    assert (len(a)==len(b)),'The vector dimensions must be equal!'\n",
    "    dot = 0\n",
    "    for (i,j) in zip(a,b):\n",
    "        dot += i*j\n",
    "    return dot\n",
    "        \n",
    "a = [1,2,3]\n",
    "b = [4,5,6]\n",
    "\n",
    "try:\n",
    "    print('the dot product of a and b is ', dot_product(a,b))\n",
    "except Exception as e:\n",
    "    print('An exception occured: ', str(e))"
   ]
  }
 ],
 "metadata": {
  "kernelspec": {
   "display_name": "Python 3",
   "language": "python",
   "name": "python3"
  },
  "language_info": {
   "codemirror_mode": {
    "name": "ipython",
    "version": 3
   },
   "file_extension": ".py",
   "mimetype": "text/x-python",
   "name": "python",
   "nbconvert_exporter": "python",
   "pygments_lexer": "ipython3",
   "version": "3.6.2"
  }
 },
 "nbformat": 4,
 "nbformat_minor": 2
}
