{
 "cells": [
  {
   "cell_type": "markdown",
   "metadata": {},
   "source": [
    "<h1 style=\"color:white;background-color:rgb(255, 108, 0);padding-top:1em;padding-bottom:0.7em;padding-left:1em;\">3.1 Constants, Session and Operations</h1>\n",
    "<hr>\n",
    "\n",
    "<h2>Introduction</h2>\n",
    "\n",
    "In this lession we are going to cover how to create constant tensors in TensorFlow,\n",
    "<br>\n",
    "how to perform operations on these constants and how to evaluate the results.\n",
    "\n",
    "First let's import the required modules:"
   ]
  },
  {
   "cell_type": "code",
   "execution_count": null,
   "metadata": {},
   "outputs": [],
   "source": [
    "import numpy as np\n",
    "import tensorflow as tf\n",
    "import SIT_visit.utils as utils"
   ]
  },
  {
   "cell_type": "markdown",
   "metadata": {},
   "source": [
    "<h2>Constants in TensorFlow</h2>\n",
    "\n",
    "TensorFlow handles all values as tensors, so even a scalar, a vector or a matrix is\n",
    "<br>\n",
    "referred to as a tensor in this context.\n",
    "\n",
    "Constant tensors in TensorFlow can be defined like\n",
    "\n",
    "```python\n",
    "tf.constant(\n",
    "    value,\n",
    "    dtype=None,\n",
    "    shape=None,\n",
    "    name='Const',\n",
    "    verify_shape=False\n",
    ")\n",
    "```\n",
    "\n",
    "This returns a constant tensor.\n",
    "<br>\n",
    "For more information see https://www.tensorflow.org/api_docs/python/tf/constant\n",
    "\n",
    "\n",
    "<p style=\"margin-top:2em;\">Now let's create some constants with different values and different datatypes:</p>"
   ]
  },
  {
   "cell_type": "code",
   "execution_count": null,
   "metadata": {},
   "outputs": [],
   "source": [
    "#Create constant tensors with different values and types\n",
    "\n",
    "const_int = tf.constant(3) #constant tensor from the integer value 3\n",
    "const_float = tf.constant(1.2) #constant tensor from the float value 1.2\n",
    "const_bool = tf.constant(True) #constant tensor from the boolean value True\n",
    "const_string = tf.constant('This is a string') #constant tensor from the string value 'This is a string'\n",
    "\n",
    "#Print the created tensors\n",
    "print('const_int tensor is: ', const_int)\n",
    "print('const_float tensor is: ', const_float)\n",
    "print('const_bool tensor is: ', const_bool)\n",
    "print('const_string tensor is: ', const_string)"
   ]
  },
  {
   "cell_type": "markdown",
   "metadata": {},
   "source": [
    "<p style=\"margin-top:2em;\">From the output it can be seen that the tensor objects are printed and not their values.</p>\n",
    "<br>\n",
    "The printed objects give us the following information:\n",
    "\n",
    "<p style=\"margin-left:2em;\"><i>Tensor(\"t_name\", shape, dtype),</i></p>\n",
    "\n",
    "so the printed object is a tensor with an assigned name \"tf_name\" and\n",
    "<br>\n",
    "the shape and datatype of the tensor is given as well.\n",
    "\n",
    "For the formerly created constants we did not specify anything apart from their value.\n",
    "<br>\n",
    "If not specified, the datatype and the shape of the tensor are determined from the\n",
    "<br>\n",
    "input and the name is automatically generated.\n",
    "\n",
    "The available datatypes can be seen in https://www.tensorflow.org/api_docs/python/tf/dtypes/DType\n",
    "\n",
    "<p style=\"margin-top:2em;\">Let's define constant tensors with setting their name and datatype:</p>"
   ]
  },
  {
   "cell_type": "code",
   "execution_count": null,
   "metadata": {},
   "outputs": [],
   "source": [
    "#Create tensors with specified name and datatype\n",
    "const_int8 = tf.constant(9, dtype=tf.int8, name='int8_constant_tensor')\n",
    "const_uint8 = tf.constant(126, dtype=tf.uint8, name='uint8_constant_tensor')\n",
    "const_float64 = tf.constant(1.12345, dtype=tf.float64, name='float64_constant_tensor')\n",
    "\n",
    "#Print the created tensors\n",
    "print('const_int8 tensor is: ', const_int8)\n",
    "print('const_uint8 tensor is: ', const_uint8)\n",
    "print('const_float64 tensor is: ', const_float64)"
   ]
  },
  {
   "cell_type": "markdown",
   "metadata": {},
   "source": [
    "<p style=\"color:white;margin-top:2em;margin-bottom:3em;background-color:rgb(251, 150, 90);padding-top:1em;padding-bottom:1em;padding-left:1em;\">WARNING! wrongly specifying the datatype will not cause any error for now, because the tensors are not yet evaluated!</p>"
   ]
  },
  {
   "cell_type": "markdown",
   "metadata": {},
   "source": [
    "<h2>TensorFlow Session</h2>\n",
    "\n",
    "As it can be seen, the assigned values to created constants cannot be simply accessed.\n",
    "<br>\n",
    "This is because in TensorFlow you can evaluate tensors and execute opertaions\n",
    "<br>\n",
    "in a TensorFlow Session environment.\n",
    "\n",
    "<p style=\"margin-top:2em;\">Let's create some constants and evaluate them in a Session:</p>"
   ]
  },
  {
   "cell_type": "code",
   "execution_count": null,
   "metadata": {},
   "outputs": [],
   "source": []
  },
  {
   "cell_type": "markdown",
   "metadata": {},
   "source": [
    "<h2>TensorFlow Operations and the Computation Graph</h2>"
   ]
  },
  {
   "cell_type": "code",
   "execution_count": null,
   "metadata": {},
   "outputs": [],
   "source": [
    "g = tf.Graph()\n",
    "\n",
    "with g.as_default():\n",
    "    X = tf.constant(7, name='custom_constant')\n",
    "    Y = tf.constant(3, name='custom_constant_2')\n",
    "    Z = X + Y\n",
    "    \n",
    "utils.show_graph(g)\n",
    "\n",
    "help(utils)"
   ]
  }
 ],
 "metadata": {
  "kernelspec": {
   "display_name": "Python 3",
   "language": "python",
   "name": "python3"
  },
  "language_info": {
   "codemirror_mode": {
    "name": "ipython",
    "version": 3
   },
   "file_extension": ".py",
   "mimetype": "text/x-python",
   "name": "python",
   "nbconvert_exporter": "python",
   "pygments_lexer": "ipython3",
   "version": "3.6.2"
  }
 },
 "nbformat": 4,
 "nbformat_minor": 2
}
