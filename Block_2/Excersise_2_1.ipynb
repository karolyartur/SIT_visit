{
 "cells": [
  {
   "cell_type": "markdown",
   "metadata": {},
   "source": [
    "<h1 style=\"color:white;background-color:rgb(255, 108, 0);padding-top:1em;padding-bottom:0.7em;padding-left:1em;\">Excersise 2.1 solution</h1>\n",
    "<hr>"
   ]
  },
  {
   "cell_type": "code",
   "execution_count": null,
   "metadata": {},
   "outputs": [],
   "source": [
    "import numpy as np\n",
    "import matplotlib.pyplot as plt"
   ]
  },
  {
   "cell_type": "code",
   "execution_count": null,
   "metadata": {},
   "outputs": [],
   "source": [
    "def sigmoid(x):\n",
    "    return (1/ (1 + np.exp(-x)))\n",
    "\n",
    "def neuron(inputs, weights, activation):\n",
    "    '''Function for defining an artificial neuron\n",
    "    \n",
    "    Inputs:\n",
    "        inputs (numpy.ndarray) - The inputs of the neuron\n",
    "        weights (numpy.ndarray) - The weights of the neuron (The length of the weights array must be len(inputs)+1\n",
    "                                    because the last element of weights is the bias.)\n",
    "        activation (function) - The activation function to use\n",
    "        \n",
    "    Returns:\n",
    "        (?) -The output of the neuron\n",
    "    '''\n",
    "    \n",
    "    inputs = np.append(inputs, 1)\n",
    "    return (activation(weights.dot(inputs)))\n",
    "\n",
    "samples = np.array([[0,0], [0,1], [1,0], [1,1]])\n",
    "\n",
    "\n",
    "#Not and\n",
    "weights = np.array([-2.5, -2.8, 4.2])\n",
    "\n",
    "for sample in samples:\n",
    "    out = neuron(sample, weights, sigmoid)\n",
    "    print('Input:', sample, 'output:', out, 'Not and is:', int(out>0.5))\n",
    "\n",
    "print('\\n')\n",
    "\n",
    "\n",
    "#XOr\n",
    "def XOr(sample, p=False):\n",
    "    not_and = neuron(sample, np.array([-3.0, -3.1, 4.5]), sigmoid)\n",
    "    _or = neuron(sample, np.array([4.1, 3.8, -2.5]), sigmoid)\n",
    "    XOr = neuron(np.array([not_and,_or]), np.array([3.0, 3.1, -4.5]), sigmoid)\n",
    "    if p:\n",
    "        print('Input:', sample, 'output:', XOr, 'XOr is:', int(XOr>0.5))\n",
    "    return (XOr)\n",
    "    \n",
    "for sample in samples:\n",
    "    XOr(sample, p=True)\n",
    "\n",
    "\n",
    "#Plot\n",
    "y, x = np.meshgrid(np.linspace(0, 1, 100), np.linspace(0, 1, 100))\n",
    "z=np.zeros((100,100))\n",
    "for i in range(100):\n",
    "    for j in range(100):\n",
    "        z[(i,j)] = XOr(np.array([i/100,j/100]))\n",
    "        \n",
    "plt.figure(1)\n",
    "z_min, z_max = z.min(), z.max()\n",
    "plt.pcolormesh(x, y, z, cmap='RdBu', vmin=z_min, vmax=z_max)\n",
    "plt.title('XOr')\n",
    "plt.colorbar()\n",
    "\n",
    "plt.show()"
   ]
  }
 ],
 "metadata": {
  "kernelspec": {
   "display_name": "Python 3",
   "language": "python",
   "name": "python3"
  },
  "language_info": {
   "codemirror_mode": {
    "name": "ipython",
    "version": 3
   },
   "file_extension": ".py",
   "mimetype": "text/x-python",
   "name": "python",
   "nbconvert_exporter": "python",
   "pygments_lexer": "ipython3",
   "version": "3.6.2"
  }
 },
 "nbformat": 4,
 "nbformat_minor": 2
}
