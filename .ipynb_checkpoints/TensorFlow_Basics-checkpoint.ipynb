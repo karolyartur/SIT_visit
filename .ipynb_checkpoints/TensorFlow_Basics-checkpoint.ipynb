{
 "cells": [
  {
   "cell_type": "markdown",
   "metadata": {},
   "source": [
    "<h1><center>TensorFlow Python API Basics</center></h1>"
   ]
  },
  {
   "cell_type": "markdown",
   "metadata": {},
   "source": [
    "<center>This notebook introduces the basic features of the Python API of the TensorFlow deep learning framework.</center>"
   ]
  },
  {
   "cell_type": "code",
   "execution_count": 1,
   "metadata": {},
   "outputs": [],
   "source": [
    "import numpy as np\n",
    "import tensorflow as tf\n",
    "import utils"
   ]
  },
  {
   "cell_type": "markdown",
   "metadata": {},
   "source": [
    "Constants in TensorFlow can be defined like\n",
    "\n",
    "```python\n",
    "tf.constant(\n",
    "    value,\n",
    "    dtype=None,\n",
    "    shape=None,\n",
    "    name='Const',\n",
    "    verify_shape=False\n",
    ")\n",
    "```\n",
    "\n",
    "This returns a constant tensor. For more information see https://www.tensorflow.org/api_docs/python/tf/constant"
   ]
  },
  {
   "cell_type": "code",
   "execution_count": 2,
   "metadata": {},
   "outputs": [
    {
     "name": "stdout",
     "output_type": "stream",
     "text": [
      "const_int tensor is:  Tensor(\"Const:0\", shape=(), dtype=int32)\n",
      "const_float tensor is:  Tensor(\"Const_1:0\", shape=(), dtype=float32)\n",
      "const_bool tensor is:  Tensor(\"Const_2:0\", shape=(), dtype=bool)\n",
      "const_string tensor is:  Tensor(\"Const_3:0\", shape=(), dtype=string)\n"
     ]
    }
   ],
   "source": [
    "#Create constant tensors with different values and types\n",
    "\n",
    "const_int = tf.constant(3) #constant tensor from the integer value 3\n",
    "const_float = tf.constant(1.2) #constant tensor from the float value 1.2\n",
    "const_bool = tf.constant(True) #constant tensor from the boolean value True\n",
    "const_string = tf.constant('This is a string') #constant tensor from the string value 'This is a string'\n",
    "\n",
    "#Print the created tensors\n",
    "print('const_int tensor is: ', const_int)\n",
    "print('const_float tensor is: ', const_float)\n",
    "print('const_bool tensor is: ', const_bool)\n",
    "print('const_string tensor is: ', const_string)"
   ]
  },
  {
   "cell_type": "markdown",
   "metadata": {},
   "source": [
    "From the output it can be seen that the tensor objects are printed and not their values.\n",
    "<br>\n",
    "The printed objects give us the following information:\n",
    "\n",
    "Tensor(\"t_name\", shape, dtype),\n",
    "\n",
    "so the printed object is a Tensor with an assigned name \"tf_name\".\n",
    "<br>\n",
    "The shape and datatype of the tensor is given as well.\n",
    "\n",
    "For the formerly created constants we did not specify anything apart from their value.\n",
    "<br>\n",
    "The datatype, if not specified, is determined from the provided value as it can be seen from the outputs.\n",
    "<br>\n",
    "The shape is also determined by the provided value if it is not specified. shape=() means a scalar value.\n",
    "<br>\n",
    "The name of the tensor is automatically generated unless it is specified. It can be used to identify objects in TensorFlow.\n",
    "\n",
    "The available datatypes can be seen in https://www.tensorflow.org/api_docs/python/tf/dtypes/DType\n",
    "<br>\n",
    "Let's define constant tensors with setting their name and datatype!"
   ]
  },
  {
   "cell_type": "code",
   "execution_count": 3,
   "metadata": {},
   "outputs": [
    {
     "name": "stdout",
     "output_type": "stream",
     "text": [
      "const_int8 tensor is:  Tensor(\"int8_constant_tensor:0\", shape=(), dtype=int8)\n",
      "const_uint8 tensor is:  Tensor(\"uint8_constant_tensor:0\", shape=(), dtype=uint8)\n",
      "const_float64 tensor is:  Tensor(\"float64_constant_tensor:0\", shape=(), dtype=float64)\n"
     ]
    }
   ],
   "source": [
    "#Create tensors with specified name and datatype\n",
    "const_int8 = tf.constant(9, dtype=tf.int8, name='int8_constant_tensor')\n",
    "const_uint8 = tf.constant(126, dtype=tf.uint8, name='uint8_constant_tensor')\n",
    "const_float64 = tf.constant(1.12345, dtype=tf.float64, name='float64_constant_tensor')\n",
    "\n",
    "#Print the created tensors\n",
    "print('const_int8 tensor is: ', const_int8)\n",
    "print('const_uint8 tensor is: ', const_uint8)\n",
    "print('const_float64 tensor is: ', const_float64)"
   ]
  },
  {
   "cell_type": "markdown",
   "metadata": {},
   "source": [
    "WARNING! wrongly specifying the datatype will not cause any error for now, because the tensors are not yet evaluated!\n",
    "\n",
    "The usage of the shape parameter"
   ]
  },
  {
   "cell_type": "code",
   "execution_count": 8,
   "metadata": {},
   "outputs": [
    {
     "data": {
      "text/html": [
       "\n",
       "        <iframe seamless style=\"width:1200px;height:620px;border:0\" srcdoc=\"\n",
       "        <script src=&quot;//cdnjs.cloudflare.com/ajax/libs/polymer/0.3.3/platform.js&quot;></script>\n",
       "        <script>\n",
       "          function load() {\n",
       "            document.getElementById(&quot;graph0.10853340513257947&quot;).pbtxt = 'node {\\n  name: &quot;custom_constant&quot;\\n  op: &quot;Const&quot;\\n  attr {\\n    key: &quot;dtype&quot;\\n    value {\\n      type: DT_INT32\\n    }\\n  }\\n  attr {\\n    key: &quot;value&quot;\\n    value {\\n      tensor {\\n        dtype: DT_INT32\\n        tensor_shape {\\n        }\\n        int_val: 7\\n      }\\n    }\\n  }\\n}\\nnode {\\n  name: &quot;custom_constant_2&quot;\\n  op: &quot;Const&quot;\\n  attr {\\n    key: &quot;dtype&quot;\\n    value {\\n      type: DT_INT32\\n    }\\n  }\\n  attr {\\n    key: &quot;value&quot;\\n    value {\\n      tensor {\\n        dtype: DT_INT32\\n        tensor_shape {\\n        }\\n        int_val: 3\\n      }\\n    }\\n  }\\n}\\nnode {\\n  name: &quot;add&quot;\\n  op: &quot;Add&quot;\\n  input: &quot;custom_constant&quot;\\n  input: &quot;custom_constant_2&quot;\\n  attr {\\n    key: &quot;T&quot;\\n    value {\\n      type: DT_INT32\\n    }\\n  }\\n}\\n';\n",
       "          }\n",
       "        </script>\n",
       "        <link rel=&quot;import&quot; href=&quot;https://tensorboard.appspot.com/tf-graph-basic.build.html&quot; onload=load()>\n",
       "        <div style=&quot;height:600px&quot;>\n",
       "          <tf-graph-basic id=&quot;graph0.10853340513257947&quot;></tf-graph-basic>\n",
       "        </div>\n",
       "    \"></iframe>\n",
       "    "
      ],
      "text/plain": [
       "<IPython.core.display.HTML object>"
      ]
     },
     "metadata": {},
     "output_type": "display_data"
    },
    {
     "name": "stdout",
     "output_type": "stream",
     "text": [
      "Help on module utils:\n",
      "\n",
      "NAME\n",
      "    utils - Visualize tf.Graph\n",
      "\n",
      "DESCRIPTION\n",
      "    Utility module for visualizing Tensorflow's Computation Graph\n",
      "    in an IPython notebook.\n",
      "    \n",
      "    Source:\n",
      "        The source code in this file is from\n",
      "        https://github.com/machinelearning147/MachineLearning-YouTube\n",
      "\n",
      "FUNCTIONS\n",
      "    show_graph(graph_def, max_const_size=32)\n",
      "        Visualize TensorFlow graph.\n",
      "    \n",
      "    strip_consts(graph_def, max_const_size=32)\n",
      "        Strip large constant values from graph_def.\n",
      "\n",
      "FILE\n",
      "    d:\\temp\\phd\\sit_visit\\sit_visit\\utils.py\n",
      "\n",
      "\n"
     ]
    }
   ],
   "source": [
    "g = tf.Graph()\n",
    "\n",
    "with g.as_default():\n",
    "    X = tf.constant(7, name='custom_constant')\n",
    "    Y = tf.constant(3, name='custom_constant_2')\n",
    "    Z = X + Y\n",
    "    \n",
    "utils.show_graph(g)\n",
    "\n",
    "help(utils)"
   ]
  }
 ],
 "metadata": {
  "kernelspec": {
   "display_name": "Python 3",
   "language": "python",
   "name": "python3"
  },
  "language_info": {
   "codemirror_mode": {
    "name": "ipython",
    "version": 3
   },
   "file_extension": ".py",
   "mimetype": "text/x-python",
   "name": "python",
   "nbconvert_exporter": "python",
   "pygments_lexer": "ipython3",
   "version": "3.6.2"
  }
 },
 "nbformat": 4,
 "nbformat_minor": 2
}
