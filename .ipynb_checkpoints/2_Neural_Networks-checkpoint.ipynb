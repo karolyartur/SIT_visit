{
 "cells": [
  {
   "cell_type": "markdown",
   "metadata": {},
   "source": [
    "<h1 style=\"color:white;background-color:rgb(255, 108, 0);padding-top:1em;padding-bottom:0.7em;padding-left:1em;\">Block 2, Neural Networks</h1>\n",
    "<hr>\n",
    "\n",
    "<h2>Preparation</h2>\n",
    "\n",
    "\n",
    "\n",
    "First of all, run the following command to have a local copy of the necessary files on your local system:"
   ]
  },
  {
   "cell_type": "code",
   "execution_count": null,
   "metadata": {},
   "outputs": [],
   "source": [
    "!git clone https://github.com/karolyartur/SIT_visit"
   ]
  },
  {
   "cell_type": "markdown",
   "metadata": {},
   "source": [
    "<h2>List of Lessons</h2>\n",
    "\n",
    "Lesson 1: [Artificial Neuron Structure](Block_2/Artificial_Neuron.ipynb)\n",
    "<br>\n",
    "Lesson 2: [Training Process and Gradient Descent](Block_2/Training_Gradient_Descent.ipynb)\n",
    "<br>\n",
    "Lesson 3: [Deep Learning Theory](Block_2/Deep_Learning.ipynb)"
   ]
  }
 ],
 "metadata": {
  "kernelspec": {
   "display_name": "Python 3",
   "language": "python",
   "name": "python3"
  },
  "language_info": {
   "codemirror_mode": {
    "name": "ipython",
    "version": 3
   },
   "file_extension": ".py",
   "mimetype": "text/x-python",
   "name": "python",
   "nbconvert_exporter": "python",
   "pygments_lexer": "ipython3",
   "version": "3.6.2"
  }
 },
 "nbformat": 4,
 "nbformat_minor": 2
}
