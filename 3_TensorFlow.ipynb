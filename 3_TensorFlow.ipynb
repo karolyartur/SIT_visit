{
 "cells": [
  {
   "cell_type": "markdown",
   "metadata": {},
   "source": [
    "<h1 style=\"color:white;background-color:rgb(255, 108, 0);padding-top:1em;padding-bottom:0.7em;padding-left:1em;\">Block 3, Learning TensorFlow</h1>\n",
    "<hr>\n",
    "\n",
    "<h2>Preparation</h2>\n",
    "\n",
    "In this block we will learn how to use TensorFlow, the popular machine learning framework\n",
    "from Google.\n",
    "<br>\n",
    "We will start with the very basics and in the end of this block we will be able to\n",
    "construct deep learning models for high dimensional data.\n",
    "\n",
    "First of all, run the following command to have a local copy of the necessary files on your local system:"
   ]
  },
  {
   "cell_type": "code",
   "execution_count": null,
   "metadata": {},
   "outputs": [],
   "source": [
    "!git clone https://github.com/karolyartur/SIT_visit"
   ]
  },
  {
   "cell_type": "markdown",
   "metadata": {},
   "source": [
    "<h2>List of Lessons</h2>\n",
    "\n",
    "Lesson 1: [Constants, Session and Operations](Block_3/Constants_Session_Operations.ipynb)\n",
    "<br>\n",
    "Lesson 2: [Placeholders and Dataset API](Block_3/Placeholders_Dataset.ipynb)"
   ]
  }
 ],
 "metadata": {
  "kernelspec": {
   "display_name": "Python 3",
   "language": "python",
   "name": "python3"
  },
  "language_info": {
   "codemirror_mode": {
    "name": "ipython",
    "version": 3
   },
   "file_extension": ".py",
   "mimetype": "text/x-python",
   "name": "python",
   "nbconvert_exporter": "python",
   "pygments_lexer": "ipython3",
   "version": "3.6.2"
  }
 },
 "nbformat": 4,
 "nbformat_minor": 2
}
